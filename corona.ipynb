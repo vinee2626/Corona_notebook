{
 "metadata": {
  "language_info": {
   "codemirror_mode": {
    "name": "ipython",
    "version": 3
   },
   "file_extension": ".py",
   "mimetype": "text/x-python",
   "name": "python",
   "nbconvert_exporter": "python",
   "pygments_lexer": "ipython3",
   "version": "3.8.5"
  },
  "orig_nbformat": 2,
  "kernelspec": {
   "name": "python385jvsc74a57bd09f8e8f6e477eed661567e6d28021af0d845b717ba1160204365a660f3460a38e",
   "display_name": "Python 3.8.5 64-bit ('base': conda)"
  }
 },
 "nbformat": 4,
 "nbformat_minor": 2,
 "cells": [
  {
   "source": [
    "## Corona Data Analysis"
   ],
   "cell_type": "markdown",
   "metadata": {}
  },
  {
   "source": [
    "### Importing necessary libraries"
   ],
   "cell_type": "markdown",
   "metadata": {}
  },
  {
   "cell_type": "code",
   "execution_count": null,
   "metadata": {},
   "outputs": [],
   "source": [
    "import pandas as pd \n",
    "import matplotlib.pyplot as plt \n",
    "import seaborn as sns \n",
    "import os \n",
    "import glob"
   ]
  },
  {
   "cell_type": "code",
   "execution_count": null,
   "metadata": {},
   "outputs": [],
   "source": [
    "import os\n",
    "for dirname, _, filenames in os.walk('C:\\Pandas\\Corona'):\n",
    "    for filename in filenames:\n",
    "        print(os.path.join(dirname, filename))"
   ]
  },
  {
   "source": [
    "### Creating new dataFrame and reading the csv file "
   ],
   "cell_type": "markdown",
   "metadata": {}
  },
  {
   "cell_type": "code",
   "execution_count": null,
   "metadata": {},
   "outputs": [],
   "source": [
    "df = pd.read_csv('covid_19_data.csv', index_col=False)"
   ]
  },
  {
   "cell_type": "code",
   "execution_count": null,
   "metadata": {},
   "outputs": [],
   "source": [
    "df.head()"
   ]
  },
  {
   "source": [
    "### Cleaning the Data "
   ],
   "cell_type": "markdown",
   "metadata": {}
  },
  {
   "cell_type": "code",
   "execution_count": null,
   "metadata": {},
   "outputs": [],
   "source": [
    "df.isnull().any(axis=0)"
   ]
  },
  {
   "cell_type": "code",
   "execution_count": null,
   "metadata": {},
   "outputs": [],
   "source": [
    "df.dropna(inplace=True)"
   ]
  },
  {
   "cell_type": "code",
   "execution_count": null,
   "metadata": {},
   "outputs": [],
   "source": [
    "df.isnull().any()"
   ]
  },
  {
   "source": [
    "### Removing negative value from the confirmed column"
   ],
   "cell_type": "markdown",
   "metadata": {}
  },
  {
   "cell_type": "code",
   "execution_count": null,
   "metadata": {},
   "outputs": [],
   "source": [
    "df.loc[df['Confirmed'] < 0]"
   ]
  },
  {
   "cell_type": "code",
   "execution_count": null,
   "metadata": {},
   "outputs": [],
   "source": [
    "df=df[~(df['Confirmed'] <  0)]"
   ]
  },
  {
   "cell_type": "code",
   "execution_count": null,
   "metadata": {},
   "outputs": [],
   "source": [
    "df.loc[df['Confirmed'] < 0]"
   ]
  },
  {
   "cell_type": "code",
   "execution_count": null,
   "metadata": {},
   "outputs": [],
   "source": [
    "df"
   ]
  },
  {
   "source": [
    "## Which country had the maximum number of cases ?"
   ],
   "cell_type": "markdown",
   "metadata": {}
  },
  {
   "cell_type": "code",
   "execution_count": null,
   "metadata": {},
   "outputs": [],
   "source": [
    "df['Confirmed'] = df['Confirmed'].astype('int32')\n",
    "df['Country/Region'] = df['Country/Region'].astype('string')"
   ]
  },
  {
   "cell_type": "code",
   "execution_count": null,
   "metadata": {},
   "outputs": [],
   "source": [
    "m  =pd.DataFrame(df.groupby(['Country/Region']).sum()['Confirmed'])\n",
    "m"
   ]
  },
  {
   "source": [
    "### Visualizing the number of confirmed cases "
   ],
   "cell_type": "markdown",
   "metadata": {}
  },
  {
   "cell_type": "code",
   "execution_count": null,
   "metadata": {},
   "outputs": [],
   "source": [
    "sns.barplot(x=m.index, y= m.Confirmed, data=pd.melt(m), color='#042069')\n",
    "sns.set(rc={\"figure.figsize\":(10, 4)})\n",
    "sns.set_theme(style='whitegrid')\n",
    "plt.xticks(rotation=90)\n",
    "plt.xlabel('Countries', size=14)\n",
    "plt.ylabel('No. of confirmed corona cases', size=14)\n",
    "plt.show()"
   ]
  },
  {
   "cell_type": "code",
   "execution_count": null,
   "metadata": {},
   "outputs": [],
   "source": [
    "df.info()"
   ]
  },
  {
   "source": [
    "## Which province in the world has max number of cases?"
   ],
   "cell_type": "markdown",
   "metadata": {}
  },
  {
   "cell_type": "code",
   "execution_count": null,
   "metadata": {},
   "outputs": [],
   "source": [
    "p = pd.DataFrame(df.groupby(['Province/State','Country/Region']).sum()['Confirmed'])\n",
    "p.reset_index(inplace=True)\n",
    "cases = p.sort_values(by='Confirmed', ascending=False).head(25)\n",
    "cases "
   ]
  },
  {
   "source": [
    "### Plotting the cities having higher no. of cases of corona"
   ],
   "cell_type": "markdown",
   "metadata": {}
  },
  {
   "cell_type": "code",
   "execution_count": null,
   "metadata": {},
   "outputs": [],
   "source": [
    "sns.barplot(x= cases['Province/State'] ,y= cases.Confirmed, data=pd.melt(cases), palette=\"dark:salmon_r\")\n",
    "plt.xticks(rotation=90)\n",
    "sns.set(rc={\"figure.figsize\":(15, 4)})\n",
    "sns.set_theme(style='ticks')\n",
    "plt.show()"
   ]
  },
  {
   "source": [
    "## How many total deaths have been confirmed until now?"
   ],
   "cell_type": "markdown",
   "metadata": {}
  },
  {
   "cell_type": "code",
   "execution_count": null,
   "metadata": {},
   "outputs": [],
   "source": [
    "death = pd.DataFrame(df.groupby(['Country/Region','Province/State']).sum()['Deaths'])\n",
    "death.reset_index(inplace=True) \n",
    "death"
   ]
  },
  {
   "source": [
    "#### Total number of deaths till now"
   ],
   "cell_type": "markdown",
   "metadata": {}
  },
  {
   "cell_type": "code",
   "execution_count": null,
   "metadata": {},
   "outputs": [],
   "source": [
    "df.Deaths.sum()"
   ]
  },
  {
   "source": [
    "## Which country had the highest number of deaths?"
   ],
   "cell_type": "markdown",
   "metadata": {}
  },
  {
   "cell_type": "code",
   "execution_count": null,
   "metadata": {},
   "outputs": [],
   "source": [
    "plt.bar(death['Country/Region'], death['Deaths'], width=0.8, color=sns.dark_palette('#f7347a'))\n",
    "plt.xticks(rotation='vertical')\n",
    "plt.xlabel('Countries', size=15)\n",
    "plt.ylabel('No of Deaths', size=15)\n",
    "plt.show()"
   ]
  },
  {
   "source": [
    "## How much the confirmed cases of corona caused to fuel the increase in number of deaths?\n"
   ],
   "cell_type": "markdown",
   "metadata": {}
  },
  {
   "cell_type": "code",
   "execution_count": null,
   "metadata": {},
   "outputs": [],
   "source": [
    "from scipy.stats import pearsonr\n",
    "#df.Confirmed.corr(df.Deaths)\n",
    "pearsonr(df['Confirmed'], df['Deaths'])"
   ]
  },
  {
   "source": [
    "#### There is high correlation between the no. of deaths and the number of confirmed cases of Corona around the world!"
   ],
   "cell_type": "markdown",
   "metadata": {}
  },
  {
   "cell_type": "code",
   "execution_count": null,
   "metadata": {},
   "outputs": [],
   "source": [
    "df.Confirmed.corr(df.Recovered)"
   ]
  },
  {
   "cell_type": "code",
   "execution_count": null,
   "metadata": {},
   "outputs": [],
   "source": [
    "df.Recovered.corr(df.Deaths)"
   ]
  },
  {
   "cell_type": "code",
   "execution_count": null,
   "metadata": {},
   "outputs": [],
   "source": [
    "df.Confirmed.corr(df.Deaths)\n",
    "mat = df[['Confirmed','Deaths', 'Recovered']].corr()\n",
    "mat\n",
    "#sns.heatmap(mat, annot=True, cmap='winter')\n",
    "plt.subplots(figsize=(10,7))\n",
    "sns.heatmap(mat, cmap='Blues', linecolor='white', linewidths=1)"
   ]
  },
  {
   "source": [
    "## Which country had the best recovery rate? "
   ],
   "cell_type": "markdown",
   "metadata": {}
  },
  {
   "cell_type": "code",
   "execution_count": null,
   "metadata": {},
   "outputs": [],
   "source": [
    "df['Confirmed'] = df['Confirmed'].astype('int64')\n",
    "df['Recovered'] = df['Recovered'].astype('int64')"
   ]
  },
  {
   "cell_type": "code",
   "execution_count": null,
   "metadata": {},
   "outputs": [],
   "source": [
    "rec = pd.DataFrame(df[['Recovered', 'Confirmed']].value_counts(normalize=True)*100)\n",
    "rec.reset_index(inplace=True)\n",
    "rec.rename(columns = {0:'Rate'}, inplace=True)\n",
    "rec"
   ]
  },
  {
   "cell_type": "code",
   "execution_count": null,
   "metadata": {},
   "outputs": [],
   "source": [
    "rec['Country/Region'] = df['Country/Region'].copy()\n",
    "rec"
   ]
  },
  {
   "cell_type": "code",
   "execution_count": null,
   "metadata": {},
   "outputs": [],
   "source": [
    "rec = rec.groupby('Country/Region').sum()\n",
    "rec.reset_index(inplace=True)\n",
    "rec[['Recovered', 'Confirmed']].value_counts(normalize=True)*100\n",
    "rec"
   ]
  },
  {
   "cell_type": "code",
   "execution_count": null,
   "metadata": {},
   "outputs": [],
   "source": [
    "rec['Country/Region'] = rec['Country/Region'].astype('str')"
   ]
  },
  {
   "source": [
    "### Plotting a line chart representing the recovery rates of countries"
   ],
   "cell_type": "markdown",
   "metadata": {}
  },
  {
   "cell_type": "code",
   "execution_count": null,
   "metadata": {},
   "outputs": [],
   "source": [
    "sns.lineplot(x= rec['Country/Region'], y= rec.Rate, data=rec)\n",
    "sns.set_theme(style='darkgrid')\n",
    "plt.xticks(rotation=90)\n",
    "plt.show()"
   ]
  },
  {
   "source": [
    "### Mainland China had the best recovery rate "
   ],
   "cell_type": "markdown",
   "metadata": {}
  }
 ]
}